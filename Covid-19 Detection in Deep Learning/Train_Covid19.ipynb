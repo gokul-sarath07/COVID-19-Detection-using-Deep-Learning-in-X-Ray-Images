{
  "nbformat": 4,
  "nbformat_minor": 0,
  "metadata": {
    "colab": {
      "name": "Train Covid19",
      "provenance": [],
      "collapsed_sections": []
    },
    "kernelspec": {
      "name": "python3",
      "display_name": "Python 3"
    },
    "accelerator": "GPU"
  },
  "cells": [
    {
      "cell_type": "code",
      "metadata": {
        "id": "4OdpngCI5sAh",
        "colab_type": "code",
        "colab": {}
      },
      "source": [
        "# USAGE\n",
        "# python train.py --dataset dataset\n",
        "\n",
        "# import the necessary packages\n",
        "from tensorflow.keras.preprocessing.image import ImageDataGenerator\n",
        "from tensorflow.keras.applications import VGG16, InceptionV3\n",
        "from tensorflow.keras.layers import AveragePooling2D\n",
        "from tensorflow.keras.layers import Dropout, Conv2D, BatchNormalization, MaxPooling2D\n",
        "from tensorflow.keras.layers import Flatten\n",
        "from tensorflow.keras.layers import Dense\n",
        "from tensorflow.keras.layers import Input\n",
        "from tensorflow.keras.models import Model\n",
        "from tensorflow.keras.optimizers import Adam\n",
        "from tensorflow.keras.utils import to_categorical\n",
        "from sklearn.preprocessing import LabelBinarizer\n",
        "from sklearn.model_selection import train_test_split\n",
        "from sklearn.metrics import classification_report\n",
        "from sklearn.metrics import confusion_matrix, precision_score\n",
        "from imutils import paths\n",
        "import matplotlib.pyplot as plt\n",
        "import numpy as np\n",
        "import argparse\n",
        "import cv2\n",
        "import os"
      ],
      "execution_count": 0,
      "outputs": []
    },
    {
      "cell_type": "code",
      "metadata": {
        "id": "UaRAP4U-590L",
        "colab_type": "code",
        "colab": {}
      },
      "source": [
        "# initialize the initial learning rate, number of epochs to train for,\n",
        "# and batch size\n",
        "INIT_LR = 1e-3\n",
        "EPOCHS = 25\n",
        "BS = 10"
      ],
      "execution_count": 0,
      "outputs": []
    },
    {
      "cell_type": "code",
      "metadata": {
        "id": "iWUgSXXf6GKj",
        "colab_type": "code",
        "outputId": "b4799e75-027a-49b3-9e55-1f789f3d70be",
        "colab": {
          "base_uri": "https://localhost:8080/",
          "height": 34
        }
      },
      "source": [
        "# grab the list of images in our dataset directory, then initialize\n",
        "# the list of data (i.e., images) and class images\n",
        "print(\"[INFO] loading images...\")\n",
        "imagePaths = list(paths.list_images(\"/content/drive/My Drive/keras-covid-19/dataset\"))\n",
        "data = []\n",
        "labels = []"
      ],
      "execution_count": 76,
      "outputs": [
        {
          "output_type": "stream",
          "text": [
            "[INFO] loading images...\n"
          ],
          "name": "stdout"
        }
      ]
    },
    {
      "cell_type": "code",
      "metadata": {
        "id": "sZCToqi96H2x",
        "colab_type": "code",
        "colab": {}
      },
      "source": [
        "# loop over the image paths\n",
        "for imagePath in imagePaths:\n",
        "\t# extract the class label from the filename\n",
        "\tlabel = imagePath.split(os.path.sep)[-2]\n",
        "\n",
        "\t# load the image, swap color channels, and resize it to be a fixed\n",
        "\t# 224x224 pixels while ignoring aspect ratio\n",
        "\timage = cv2.imread(imagePath)\n",
        "\timage = cv2.cvtColor(image, cv2.COLOR_BGR2RGB)\n",
        "\timage = cv2.resize(image, (224, 224))\n",
        "\n",
        "\t# update the data and labels lists, respectively\n",
        "\tdata.append(image)\n",
        "\tlabels.append(label)"
      ],
      "execution_count": 0,
      "outputs": []
    },
    {
      "cell_type": "code",
      "metadata": {
        "id": "K7KGLBAy6I25",
        "colab_type": "code",
        "colab": {}
      },
      "source": [
        "# convert the data and labels to NumPy arrays while scaling the pixel\n",
        "# intensities to the range [0, 255]\n",
        "data = np.array(data) / 255.0\n",
        "labels = np.array(labels)"
      ],
      "execution_count": 0,
      "outputs": []
    },
    {
      "cell_type": "code",
      "metadata": {
        "id": "rDzFl88z6JXx",
        "colab_type": "code",
        "colab": {}
      },
      "source": [
        "# perform one-hot encoding on the labels\n",
        "lb = LabelBinarizer()\n",
        "labels = lb.fit_transform(labels)\n",
        "labels = to_categorical(labels)"
      ],
      "execution_count": 0,
      "outputs": []
    },
    {
      "cell_type": "code",
      "metadata": {
        "id": "kZlB1IV26JhX",
        "colab_type": "code",
        "colab": {
          "base_uri": "https://localhost:8080/",
          "height": 34
        },
        "outputId": "581aad22-9086-4770-fc4f-2c16ec3c1e71"
      },
      "source": [
        "# partition the data into training and testing splits using 80% of\n",
        "# the data for training and the remaining 20% for testing\n",
        "(trainX, testX, trainY, testY) = train_test_split(data, labels,\n",
        "\ttest_size=0.50, stratify=labels, random_state=42)\n",
        "print(len(trainX), len(trainY), len(testX), len(testY))"
      ],
      "execution_count": 80,
      "outputs": [
        {
          "output_type": "stream",
          "text": [
            "125 125 125 125\n"
          ],
          "name": "stdout"
        }
      ]
    },
    {
      "cell_type": "code",
      "metadata": {
        "id": "ObmNqKgh6Jr3",
        "colab_type": "code",
        "colab": {}
      },
      "source": [
        "# initialize the training data augmentation object\n",
        "trainAug = ImageDataGenerator(\n",
        "\trotation_range=15,\n",
        "\tfill_mode=\"nearest\")"
      ],
      "execution_count": 0,
      "outputs": []
    },
    {
      "cell_type": "code",
      "metadata": {
        "id": "qLyDqVD_6J0q",
        "colab_type": "code",
        "colab": {}
      },
      "source": [
        "# load the VGG16 network, ensuring the head FC layer sets are left\n",
        "# off\n",
        "baseModel = InceptionV3(weights=\"imagenet\", include_top=False,\n",
        "\tinput_tensor=Input(shape=(224, 224, 3)))"
      ],
      "execution_count": 0,
      "outputs": []
    },
    {
      "cell_type": "code",
      "metadata": {
        "id": "3cwlK-J96J8o",
        "colab_type": "code",
        "colab": {}
      },
      "source": [
        "# construct the head of the model that will be placed on top of the\n",
        "# the base model\n",
        "headModel = baseModel.output\n",
        "headModel = AveragePooling2D(pool_size=(4, 4))(headModel)\n",
        "#headModel = Conv2D(32, activation=\"relu\")(headModel)\n",
        "headModel = Flatten(name=\"flatten\")(headModel)\n",
        "headModel = BatchNormalization()(headModel)\n",
        "headModel = Dense(64, activation=\"relu\")(headModel)\n",
        "headModel = Dropout(0.5)(headModel)\n",
        "headModel = Dense(64, activation=\"softplus\")(headModel)\n",
        "headModel = BatchNormalization()(headModel)\n",
        "headModel = Dropout(0.5)(headModel)\n",
        "headModel = Dense(128, activation='relu')(headModel)\n",
        "headModel = BatchNormalization()(headModel)\n",
        "headModel = Dropout(0.5)(headModel)\n",
        "headModel = Dense(2, activation=\"softmax\")(headModel)\n",
        "#headModel.summary()"
      ],
      "execution_count": 0,
      "outputs": []
    },
    {
      "cell_type": "code",
      "metadata": {
        "id": "GRLJXed16KEf",
        "colab_type": "code",
        "colab": {}
      },
      "source": [
        "# place the head FC model on top of the base model (this will become\n",
        "# the actual model we will train)\n",
        "model = Model(inputs=baseModel.input, outputs=headModel)"
      ],
      "execution_count": 0,
      "outputs": []
    },
    {
      "cell_type": "code",
      "metadata": {
        "id": "EM6jrdE86KLY",
        "colab_type": "code",
        "colab": {}
      },
      "source": [
        "# loop over all layers in the base model and freeze them so they will\n",
        "# *not* be updated during the first training process\n",
        "for layer in baseModel.layers:\n",
        "\tlayer.trainable = False"
      ],
      "execution_count": 0,
      "outputs": []
    },
    {
      "cell_type": "code",
      "metadata": {
        "id": "egX6r3966KSu",
        "colab_type": "code",
        "outputId": "55c25cd2-1ae7-4a0c-9228-4388aa3fa18a",
        "colab": {
          "base_uri": "https://localhost:8080/",
          "height": 34
        }
      },
      "source": [
        "# compile our model\n",
        "print(\"[INFO] compiling model...\")\n",
        "opt = Adam(lr=INIT_LR, decay=INIT_LR / EPOCHS)\n",
        "model.compile(loss=\"binary_crossentropy\", optimizer=opt,\n",
        "\tmetrics=[\"accuracy\"])"
      ],
      "execution_count": 86,
      "outputs": [
        {
          "output_type": "stream",
          "text": [
            "[INFO] compiling model...\n"
          ],
          "name": "stdout"
        }
      ]
    },
    {
      "cell_type": "code",
      "metadata": {
        "id": "HuDXCALc6KaX",
        "colab_type": "code",
        "outputId": "9c6fab99-718e-4db0-b8ec-7edae753a8da",
        "colab": {
          "base_uri": "https://localhost:8080/",
          "height": 884
        }
      },
      "source": [
        "# train the head of the network\n",
        "print(\"[INFO] training head...\")\n",
        "H = model.fit_generator(\n",
        "\ttrainAug.flow(trainX, trainY, batch_size=BS),\n",
        "\tsteps_per_epoch=len(trainX) // BS,\n",
        "\tvalidation_data=(testX, testY),\n",
        "\tvalidation_steps=len(testX) // BS,\n",
        "\tepochs=EPOCHS)"
      ],
      "execution_count": 87,
      "outputs": [
        {
          "output_type": "stream",
          "text": [
            "[INFO] training head...\n",
            "Epoch 1/25\n",
            "12/12 [==============================] - 3s 283ms/step - loss: 1.0924 - accuracy: 0.5826 - val_loss: 0.5673 - val_accuracy: 0.6480\n",
            "Epoch 2/25\n",
            "12/12 [==============================] - 2s 127ms/step - loss: 0.8306 - accuracy: 0.6435 - val_loss: 0.5145 - val_accuracy: 0.7360\n",
            "Epoch 3/25\n",
            "12/12 [==============================] - 2s 128ms/step - loss: 0.7994 - accuracy: 0.6261 - val_loss: 0.4998 - val_accuracy: 0.7520\n",
            "Epoch 4/25\n",
            "12/12 [==============================] - 2s 128ms/step - loss: 0.4940 - accuracy: 0.7739 - val_loss: 0.4813 - val_accuracy: 0.7600\n",
            "Epoch 5/25\n",
            "12/12 [==============================] - 2s 132ms/step - loss: 0.6465 - accuracy: 0.6696 - val_loss: 0.3791 - val_accuracy: 0.8480\n",
            "Epoch 6/25\n",
            "12/12 [==============================] - 2s 126ms/step - loss: 0.5355 - accuracy: 0.7565 - val_loss: 0.3240 - val_accuracy: 0.8880\n",
            "Epoch 7/25\n",
            "12/12 [==============================] - 2s 128ms/step - loss: 0.5480 - accuracy: 0.8087 - val_loss: 0.2990 - val_accuracy: 0.8880\n",
            "Epoch 8/25\n",
            "12/12 [==============================] - 2s 126ms/step - loss: 0.4401 - accuracy: 0.8174 - val_loss: 0.2769 - val_accuracy: 0.8880\n",
            "Epoch 9/25\n",
            "12/12 [==============================] - 2s 126ms/step - loss: 0.2884 - accuracy: 0.8957 - val_loss: 0.2427 - val_accuracy: 0.8720\n",
            "Epoch 10/25\n",
            "12/12 [==============================] - 2s 128ms/step - loss: 0.4164 - accuracy: 0.8348 - val_loss: 0.2199 - val_accuracy: 0.9120\n",
            "Epoch 11/25\n",
            "12/12 [==============================] - 2s 126ms/step - loss: 0.3365 - accuracy: 0.8609 - val_loss: 0.1957 - val_accuracy: 0.9200\n",
            "Epoch 12/25\n",
            "12/12 [==============================] - 2s 126ms/step - loss: 0.2993 - accuracy: 0.8696 - val_loss: 0.1754 - val_accuracy: 0.9280\n",
            "Epoch 13/25\n",
            "12/12 [==============================] - 2s 126ms/step - loss: 0.2861 - accuracy: 0.8783 - val_loss: 0.1602 - val_accuracy: 0.9280\n",
            "Epoch 14/25\n",
            "12/12 [==============================] - 2s 128ms/step - loss: 0.2482 - accuracy: 0.8783 - val_loss: 0.1454 - val_accuracy: 0.9360\n",
            "Epoch 15/25\n",
            "12/12 [==============================] - 2s 128ms/step - loss: 0.2559 - accuracy: 0.8957 - val_loss: 0.1405 - val_accuracy: 0.9440\n",
            "Epoch 16/25\n",
            "12/12 [==============================] - 2s 129ms/step - loss: 0.4862 - accuracy: 0.8500 - val_loss: 0.1350 - val_accuracy: 0.9520\n",
            "Epoch 17/25\n",
            "12/12 [==============================] - 2s 125ms/step - loss: 0.2924 - accuracy: 0.8870 - val_loss: 0.1273 - val_accuracy: 0.9520\n",
            "Epoch 18/25\n",
            "12/12 [==============================] - 1s 125ms/step - loss: 0.2993 - accuracy: 0.8609 - val_loss: 0.1193 - val_accuracy: 0.9600\n",
            "Epoch 19/25\n",
            "12/12 [==============================] - 1s 125ms/step - loss: 0.2805 - accuracy: 0.8870 - val_loss: 0.1141 - val_accuracy: 0.9680\n",
            "Epoch 20/25\n",
            "12/12 [==============================] - 1s 124ms/step - loss: 0.3264 - accuracy: 0.8957 - val_loss: 0.1207 - val_accuracy: 0.9600\n",
            "Epoch 21/25\n",
            "12/12 [==============================] - 2s 130ms/step - loss: 0.2697 - accuracy: 0.9043 - val_loss: 0.1299 - val_accuracy: 0.9520\n",
            "Epoch 22/25\n",
            "12/12 [==============================] - 2s 126ms/step - loss: 0.1857 - accuracy: 0.9304 - val_loss: 0.1210 - val_accuracy: 0.9520\n",
            "Epoch 23/25\n",
            "12/12 [==============================] - 2s 128ms/step - loss: 0.2166 - accuracy: 0.8957 - val_loss: 0.1200 - val_accuracy: 0.9520\n",
            "Epoch 24/25\n",
            "12/12 [==============================] - 1s 124ms/step - loss: 0.1847 - accuracy: 0.9130 - val_loss: 0.1174 - val_accuracy: 0.9520\n",
            "Epoch 25/25\n",
            "12/12 [==============================] - 1s 125ms/step - loss: 0.2790 - accuracy: 0.8783 - val_loss: 0.1285 - val_accuracy: 0.9440\n"
          ],
          "name": "stdout"
        }
      ]
    },
    {
      "cell_type": "code",
      "metadata": {
        "id": "XFAs7uRu6KhA",
        "colab_type": "code",
        "outputId": "96f0c6ea-a2d6-4628-cb7e-b3c5135f8309",
        "colab": {
          "base_uri": "https://localhost:8080/",
          "height": 34
        }
      },
      "source": [
        "# make predictions on the testing set\n",
        "print(\"[INFO] evaluating network...\")\n",
        "predIdxs = model.predict(testX, batch_size=BS)"
      ],
      "execution_count": 88,
      "outputs": [
        {
          "output_type": "stream",
          "text": [
            "[INFO] evaluating network...\n"
          ],
          "name": "stdout"
        }
      ]
    },
    {
      "cell_type": "code",
      "metadata": {
        "id": "kqYLAOOr6Knm",
        "colab_type": "code",
        "colab": {}
      },
      "source": [
        "# for each image in the testing set we need to find the index of the\n",
        "# label with corresponding largest predicted probability\n",
        "predIdxs = np.argmax(predIdxs, axis=1)"
      ],
      "execution_count": 0,
      "outputs": []
    },
    {
      "cell_type": "code",
      "metadata": {
        "id": "I5vaiq9D6Kt2",
        "colab_type": "code",
        "outputId": "0aa3d4ef-7220-4b2a-a0de-faaf6561e8fb",
        "colab": {
          "base_uri": "https://localhost:8080/",
          "height": 170
        }
      },
      "source": [
        "# show a nicely formatted classification report\n",
        "print(classification_report(testY.argmax(axis=1), predIdxs,\n",
        "\ttarget_names=lb.classes_))"
      ],
      "execution_count": 90,
      "outputs": [
        {
          "output_type": "stream",
          "text": [
            "              precision    recall  f1-score   support\n",
            "\n",
            "       covid       0.92      0.97      0.94        62\n",
            "      normal       0.97      0.92      0.94        63\n",
            "\n",
            "    accuracy                           0.94       125\n",
            "   macro avg       0.94      0.94      0.94       125\n",
            "weighted avg       0.95      0.94      0.94       125\n",
            "\n"
          ],
          "name": "stdout"
        }
      ]
    },
    {
      "cell_type": "code",
      "metadata": {
        "id": "ZAZmZzIr6Kzf",
        "colab_type": "code",
        "colab": {}
      },
      "source": [
        "# compute the confusion matrix and and use it to derive the raw\n",
        "# accuracy, sensitivity, and specificity\n",
        "cm = confusion_matrix(testY.argmax(axis=1), predIdxs)\n",
        "total = sum(sum(cm))\n",
        "acc = (cm[0, 0] + cm[1, 1]) / total\n",
        "sensitivity = cm[0, 0] / (cm[0, 0] + cm[0, 1])\n",
        "specificity = cm[1, 1] / (cm[1, 0] + cm[1, 1])\n",
        "#pre = precision_score(testY,trainY)"
      ],
      "execution_count": 0,
      "outputs": []
    },
    {
      "cell_type": "code",
      "metadata": {
        "id": "ProDoMMx6K5R",
        "colab_type": "code",
        "outputId": "7552cb91-308d-45cb-9f25-cde0c85e41bb",
        "colab": {
          "base_uri": "https://localhost:8080/",
          "height": 102
        }
      },
      "source": [
        "# show the confusion matrix, accuracy, sensitivity, and specificity\n",
        "print(cm)\n",
        "print(\"acc: {:.4f}\".format(acc))\n",
        "print(\"sensitivity: {:.4f}\".format(sensitivity))\n",
        "print(\"specificity: {:.4f}\".format(specificity))"
      ],
      "execution_count": 93,
      "outputs": [
        {
          "output_type": "stream",
          "text": [
            "[[60  2]\n",
            " [ 5 58]]\n",
            "acc: 0.9440\n",
            "sensitivity: 0.9677\n",
            "specificity: 0.9206\n"
          ],
          "name": "stdout"
        }
      ]
    },
    {
      "cell_type": "code",
      "metadata": {
        "id": "6QuurFrI6K-x",
        "colab_type": "code",
        "outputId": "11ee81b9-5547-4086-b32d-fad96f0637bb",
        "colab": {
          "base_uri": "https://localhost:8080/",
          "height": 316
        }
      },
      "source": [
        "# plot the training loss and accuracy\n",
        "N = EPOCHS\n",
        "plt.style.use(\"ggplot\")\n",
        "plt.figure()\n",
        "plt.plot(np.arange(0, N), H.history[\"loss\"], label=\"train_loss\")\n",
        "plt.plot(np.arange(0, N), H.history[\"val_loss\"], label=\"val_loss\")\n",
        "plt.plot(np.arange(0, N), H.history[\"accuracy\"], label=\"train_acc\")\n",
        "plt.plot(np.arange(0, N), H.history[\"val_accuracy\"], label=\"val_acc\")\n",
        "plt.title(\"Training Loss and Accuracy on COVID-19 Dataset\")\n",
        "plt.xlabel(\"Epoch #\")\n",
        "plt.ylabel(\"Loss/Accuracy\")\n",
        "plt.legend(loc=\"lower left\")\n",
        "#plt.savefig(args[\"plot\"])"
      ],
      "execution_count": 94,
      "outputs": [
        {
          "output_type": "execute_result",
          "data": {
            "text/plain": [
              "<matplotlib.legend.Legend at 0x7fe8039502e8>"
            ]
          },
          "metadata": {
            "tags": []
          },
          "execution_count": 94
        },
        {
          "output_type": "display_data",
          "data": {
            "image/png": "[encoded data removed]",
            "text/plain": [
              "<Figure size 432x288 with 1 Axes>"
            ]
          },
          "metadata": {
            "tags": []
          }
        }
      ]
    },
    {
      "cell_type": "code",
      "metadata": {
        "id": "4W0_Vy5h6LDn",
        "colab_type": "code",
        "colab": {}
      },
      "source": [
        "# serialize the model to disk\n",
        "print(\"[INFO] saving COVID-19 detector model...\")\n",
        "#model.save(args[\"model\"], save_format=\"h5\")"
      ],
      "execution_count": 0,
      "outputs": []
    },
    {
      "cell_type": "code",
      "metadata": {
        "id": "6ImyrJAv6LMW",
        "colab_type": "code",
        "colab": {}
      },
      "source": [
        ""
      ],
      "execution_count": 0,
      "outputs": []
    },
    {
      "cell_type": "code",
      "metadata": {
        "id": "lxiSrW_w6LQc",
        "colab_type": "code",
        "colab": {}
      },
      "source": [
        ""
      ],
      "execution_count": 0,
      "outputs": []
    },
    {
      "cell_type": "code",
      "metadata": {
        "id": "KBdQOL786LJ6",
        "colab_type": "code",
        "colab": {}
      },
      "source": [
        ""
      ],
      "execution_count": 0,
      "outputs": []
    }
  ]
}